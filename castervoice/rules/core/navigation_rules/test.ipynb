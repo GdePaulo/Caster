{
 "cells": [
  {
   "cell_type": "code",
   "execution_count": 42,
   "metadata": {},
   "outputs": [
    {
     "name": "stdout",
     "output_type": "stream",
     "text": [
      "C:\\Users\\Ameno\\Desktop\n"
     ]
    }
   ],
   "source": [
    "import os\n",
    "print(os.getcwd())\n",
    "#change the current work dir\n",
    "# os.chdir(\"C://Users/Ameno/Desktop\")\n",
    "import sys\n",
    "# sys.path.append(\"C://Users/Ameno/Desktop/Caster\")\n",
    "# from castervoice.lib import settings\n",
    "from subprocess import Popen, PIPE\n",
    "\n",
    "\n",
    "# TERMINAL_PATH = settings.SETTINGS[\"paths\"][\"TERMINAL_PATH\"]\n",
    "# print(TERMINAL_PATH)\n",
    "TERMINAL_PATH = \"C://Program Files/Git/git-bash.exe\"\n",
    "TERMINAL_PATH_BIN = \"C://Program Files/Git/bin/bash.exe\"\n",
    "terminal = Popen([\"C://Program Files/Git/git-bash.exe\"], cwd=r\"C:\\Users\\Ameno\\Desktop\\Caster\")\n",
    "# terminal = Popen([TERMINAL_PATH, \"cd\", \"C://Users/Ameno/\"], cwd=\"C:\\\\Program Files\\Git\")\n",
    "# terminal = Popen(TERMINAL_PATH, cwd=\"C:\\Program Files\\Git\")\n",
    "# import subprocess\n",
    "# output = subprocess.check_output(['bash','-c', \"ls\"])\n",
    "# print(output)"
   ]
  }
 ],
 "metadata": {
  "interpreter": {
   "hash": "5c9c23c68e4133fb152380ec4059b1f78568734598c8159b0962b671d1bd3454"
  },
  "kernelspec": {
   "display_name": "Python 3.9.4 ('bacteria')",
   "language": "python",
   "name": "python3"
  },
  "language_info": {
   "name": "python",
   "version": "3.9.4"
  },
  "orig_nbformat": 4
 },
 "nbformat": 4,
 "nbformat_minor": 2
}
